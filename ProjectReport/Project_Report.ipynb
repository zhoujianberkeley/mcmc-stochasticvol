{
 "cells": [
  {
   "cell_type": "markdown",
   "metadata": {},
   "source": [
    "# Quarter 2: Project\n",
    "\n",
    "The main deliverable for the second quarter of the computational economics and finance class is a project to showcase what you have learned. The goal of this project is for you (potentially in a small group) to produce a piece of work (in the form of a Jupyter notebook) that you would be able to use to showcase the skills that you have learned in this class to potential employers or academic advisors.\n",
    "\n",
    "The relatively loose structure in self-directed projects like this makes them a bit more challenging than other things that you will do in school, but we think it also makes them more interesting. They give you a chance to indulge your curiosity and show off your creativity.\n",
    "\n",
    "We have broken the project into three components to keep you on track. Each of these components should be turned in as its own Jupyter notebook. The first two steps are graded almost entirely on whether you do them or not. You must complete the first two steps on your own. When you actually begin working on the final project, you may work in groups of two to four, but you may also work alone if you’d  prefer."
   ]
  },
  {
   "cell_type": "markdown",
   "metadata": {},
   "source": [
    "# Outline\n",
    "\n",
    "- [Project Ideas](#Project-Ideas)\n",
    "- [Proposal](#Proposal)\n",
    "  - [Project Proposals](#Project-Proposals)\n",
    "  - [Prior](#Prior)\n",
    "- [Introduction](#Introduction)\n",
    "  - [Data of VIX Index](#Data-of-VIX-Index) \n",
    "  - [Data with covid-19](#Data-with-covid-19)\n",
    "- [Topic 2](#Topic-2)\n",
    "  - \n",
    "  -\n",
    "  -\n",
    "- [Topic 3](#Topic-3)\n",
    "  -\n",
    "  -\n",
    "  -"
   ]
  },
  {
   "cell_type": "markdown",
   "metadata": {},
   "source": [
    "# Project Ideas\n",
    "\n",
    "**(15% of project grade)**\n",
    "\n",
    "Form a team of between one and four students (no more) and choose a project. This project could come from the ideas that you submitted or some other idea if you get a sudden flash of inspiration. Flesh out the project in detail -- When we say “flesh it out in detail”, we mean properly load the data into the notebook, describe in words what you want to explore, and create a couple draft quality visualizations (don’t worry about making them pretty) that whets a reader’s appetite.\n",
    "\n",
    "Please include the names of all group members in the below:\n",
    "\n",
    "* Jian Zhou\n",
    "* Bo Sun\n",
    "* Man Chen\n",
    "\n",
    "\n",
    "**Please note that each person should make a copy of the notebook and turn it in!**\n"
   ]
  },
  {
   "cell_type": "markdown",
   "metadata": {},
   "source": [
    "# Proposal\n",
    "Include your project proposal, data, and graphs in the cells below"
   ]
  },
  {
   "cell_type": "markdown",
   "metadata": {},
   "source": [
    "## Project Proposals"
   ]
  },
  {
   "cell_type": "markdown",
   "metadata": {},
   "source": [
    "The stochastic volatility model is the canonical method to model asset return volatility. Nonetheless, the stochastic models usually don’t have closed-form analytic solution and computational-heavy to calibrate due to model complexity. Monte Carlo Markov Chain has grown to be one of the most effective and popular tools in analyzing the stochastic volatility model. Priors and data are fed into the model, and posteriors are the calibrated model parameters of interest. \n",
    "\n",
    "We have noticed that the VIX index has been rather volatile since the outbreak of COVID-19 and peaked in March 2019. The traditional stochastic volatility fails to capture the spike due to the inactivity to internalize exogenous shock.  \n",
    "\n",
    "We proposed to extend the canonical stochastic volatility to incorporate covid-19 data under a Monte Carlo Markov Chain framework. The following formulas set the extended stochastic volatility model."
   ]
  },
  {
   "cell_type": "markdown",
   "metadata": {},
   "source": [
    "Mathematically speaking, the cannonical stochastic volatility model follows the below setting, where $\\sigma_\\eta$ is the scale parameter."
   ]
  },
  {
   "cell_type": "markdown",
   "metadata": {},
   "source": [
    "\\begin{align*}\n",
    "\\qquad & y_t = \\beta e^{h_t} \\epsilon_t\\qquad \\qquad &\\epsilon_t \\sim N(0,1) \\\\\n",
    "\\qquad & h_{t} = \\mu + \\phi (h_{t-1} - \\mu) + \\sigma_{\\eta} \\eta_{t-1}  \\qquad \\qquad &\\eta_{t-1} \\sim N(0,1) \\quad \\beta \\sim N(1,10) \\\\\n",
    "\\qquad &  h_1 \\sim N(\\mu, \\sigma_\\eta^2/(1-\\phi^2)) \\\\\n",
    "\\end{align*}"
   ]
  },
  {
   "cell_type": "markdown",
   "metadata": {},
   "source": [
    "The extended stochastic volatility model follows the below setting. The key difference is that $\\sigma_\\eta$ is no more time-invariant, instead, is a random walk with drift decided by covid-19 data."
   ]
  },
  {
   "cell_type": "markdown",
   "metadata": {},
   "source": [
    "\\begin{align*}\n",
    "\\qquad & y_t = \\beta e^{h_t} \\epsilon_t\\qquad \\qquad &\\epsilon_t \\sim N(0,1) \\\\\n",
    "\\qquad & h_{t} = \\mu + \\phi (h_{t-1} - \\mu) + \\sigma_{\\eta,t} \\eta_{t}  \\qquad \\qquad &\\eta_{t-1} \\sim N(0,1) \\quad \\beta \\sim N(1,10) \\\\\n",
    "\\qquad &  h_1 \\sim N(\\mu, \\sigma_\\eta^2/(1-\\phi^2)) \\\\\n",
    "\\qquad & \\color{red}{ \\sigma_{\\eta,t} =  \\sigma_{\\eta,t-1} + \\alpha(lnC_t - lnC_{t-1}) + u_t} \\qquad \\qquad &u_t \\sim N(0,1) \\\\\n",
    "\\end{align*}"
   ]
  },
  {
   "cell_type": "markdown",
   "metadata": {},
   "source": [
    "We plan to sample and calibrate the extended stochastic volatility model. Furthermore, we will conduct a model comparison to check whether the comprehensive model supersedes the canonical model. \n"
   ]
  },
  {
   "cell_type": "code",
   "execution_count": 1,
   "metadata": {},
   "outputs": [],
   "source": [
    "import arviz as az\n",
    "import datetime\n",
    "import matplotlib.pyplot as plt\n",
    "import numpy as np\n",
    "import pandas as pd\n",
    "import pymc3 as pm\n",
    "import yfinance as yf\n",
    "import os\n",
    "\n",
    "%matplotlib inline\n",
    "%config Completer.use_jedi = False"
   ]
  },
  {
   "cell_type": "markdown",
   "metadata": {},
   "source": [
    "# Introduction"
   ]
  },
  {
   "cell_type": "markdown",
   "metadata": {},
   "source": [
    "## Data of VIX Index"
   ]
  },
  {
   "cell_type": "markdown",
   "metadata": {},
   "source": [
    "As we have mentioned before in our project proposal, according to the assumption of the cannonical stochastic volatility model, the distribution of the volatility parameter $\\sigma_\\eta$ does not change with time. We will see that whether the volitility of financial market is time-invariant during covid-19."
   ]
  },
  {
   "cell_type": "markdown",
   "metadata": {},
   "source": [
    "First we will show the data of CBOE Volatility Index(VIX) during covid-19.The data was downloaded from Yahoo Finance:"
   ]
  },
  {
   "cell_type": "code",
   "execution_count": 2,
   "metadata": {},
   "outputs": [
    {
     "name": "stdout",
     "output_type": "stream",
     "text": [
      "[*********************100%***********************]  2 of 2 completed\n"
     ]
    },
    {
     "data": {
      "text/plain": "                  SP500    VIX\nDate                          \n2017-01-03  2257.830078  12.85\n2017-01-04  2270.750000  11.85",
      "text/html": "<div>\n<style scoped>\n    .dataframe tbody tr th:only-of-type {\n        vertical-align: middle;\n    }\n\n    .dataframe tbody tr th {\n        vertical-align: top;\n    }\n\n    .dataframe thead th {\n        text-align: right;\n    }\n</style>\n<table border=\"1\" class=\"dataframe\">\n  <thead>\n    <tr style=\"text-align: right;\">\n      <th></th>\n      <th>SP500</th>\n      <th>VIX</th>\n    </tr>\n    <tr>\n      <th>Date</th>\n      <th></th>\n      <th></th>\n    </tr>\n  </thead>\n  <tbody>\n    <tr>\n      <th>2017-01-03</th>\n      <td>2257.830078</td>\n      <td>12.85</td>\n    </tr>\n    <tr>\n      <th>2017-01-04</th>\n      <td>2270.750000</td>\n      <td>11.85</td>\n    </tr>\n  </tbody>\n</table>\n</div>"
     },
     "execution_count": 2,
     "metadata": {},
     "output_type": "execute_result"
    }
   ],
   "source": [
    "# load sp500 and vix data use yfinance\n",
    "_finance_data = yf.download(\"^GSPC ^VIX\", start=\"2017-01-01\", end=\"2021-01-11\")['Adj Close']\n",
    "_finance_data = _finance_data.rename({'^GSPC':'SP500', '^VIX':'VIX', '^INDIAVIX':'India_VIX'}, axis=1)\n",
    "_finance_data.head(2)"
   ]
  },
  {
   "cell_type": "markdown",
   "metadata": {},
   "source": [
    "We plot the graph of VIX index:"
   ]
  },
  {
   "cell_type": "code",
   "execution_count": 3,
   "metadata": {},
   "outputs": [
    {
     "data": {
      "text/plain": "<AxesSubplot:title={'center':'VIX Index'}, xlabel='Date'>"
     },
     "execution_count": 3,
     "metadata": {},
     "output_type": "execute_result"
    },
    {
     "data": {
      "text/plain": "<Figure size 1080x360 with 1 Axes>",
      "image/png": "[encoded data removed]"
     },
     "metadata": {
      "needs_background": "light"
     },
     "output_type": "display_data"
    }
   ],
   "source": [
    "_finance_data.plot(y=['VIX'],use_index=True, figsize=(15,5),title=\"VIX Index\")"
   ]
  },
  {
   "cell_type": "markdown",
   "metadata": {},
   "source": [
    "In our project, we will set 2020-01-22 as the beginning of covid-19.The graph shows that:\n",
    "* Before covid-19,, VIX did not fluctuate greatly.\n",
    "* After covid-19 broke out, espically in the fisrt several months, VIX raised rapidly and reached a peak, which may not be consistent with the assumption that the volatility is time-invariant."
   ]
  },
  {
   "cell_type": "markdown",
   "metadata": {},
   "source": [
    "Then, our group researched on the volatility index of India, Hong Kong,Japan and Eurozone(Actually, it may be a great pity that there is no VIX index in the mainland of China, so we replace it with Hong Kong as it is one of the most important financial centers in the world and its market is closedly related to the mainland's).We downloaded those datas from Google and here are the datas:"
   ]
  },
  {
   "cell_type": "code",
   "execution_count": 4,
   "metadata": {},
   "outputs": [
    {
     "ename": "FileNotFoundError",
     "evalue": "[Errno 2] No such file or directory: 'IDIndex.csv'",
     "output_type": "error",
     "traceback": [
      "\u001B[0;31m---------------------------------------------------------------------------\u001B[0m",
      "\u001B[0;31mFileNotFoundError\u001B[0m                         Traceback (most recent call last)",
      "\u001B[0;32m<ipython-input-4-3ae20a96b8e0>\u001B[0m in \u001B[0;36m<module>\u001B[0;34m\u001B[0m\n\u001B[0;32m----> 1\u001B[0;31m \u001B[0mIDVIX\u001B[0m \u001B[0;34m=\u001B[0m \u001B[0mpd\u001B[0m\u001B[0;34m.\u001B[0m\u001B[0mread_csv\u001B[0m\u001B[0;34m(\u001B[0m\u001B[0;34m\"IDIndex.csv\"\u001B[0m\u001B[0;34m)\u001B[0m\u001B[0;34m.\u001B[0m\u001B[0mpipe\u001B[0m\u001B[0;34m(\u001B[0m\u001B[0mpd\u001B[0m\u001B[0;34m.\u001B[0m\u001B[0mDataFrame\u001B[0m\u001B[0;34m.\u001B[0m\u001B[0mrename\u001B[0m\u001B[0;34m,\u001B[0m \u001B[0mcolumns\u001B[0m\u001B[0;34m=\u001B[0m\u001B[0;32mlambda\u001B[0m \u001B[0mx\u001B[0m\u001B[0;34m:\u001B[0m \u001B[0mx\u001B[0m\u001B[0;34m.\u001B[0m\u001B[0mstrip\u001B[0m\u001B[0;34m(\u001B[0m\u001B[0;34m)\u001B[0m\u001B[0;34m)\u001B[0m\u001B[0;31m \u001B[0m\u001B[0;31m\\\u001B[0m\u001B[0;34m\u001B[0m\u001B[0;34m\u001B[0m\u001B[0m\n\u001B[0m\u001B[1;32m      2\u001B[0m \u001B[0;34m.\u001B[0m\u001B[0mpipe\u001B[0m\u001B[0;34m(\u001B[0m\u001B[0mpd\u001B[0m\u001B[0;34m.\u001B[0m\u001B[0mDataFrame\u001B[0m\u001B[0;34m.\u001B[0m\u001B[0mrename\u001B[0m\u001B[0;34m,\u001B[0m \u001B[0;34m{\u001B[0m\u001B[0;34m'Close'\u001B[0m\u001B[0;34m:\u001B[0m\u001B[0;34m'IDVIX'\u001B[0m\u001B[0;34m}\u001B[0m\u001B[0;34m,\u001B[0m \u001B[0maxis\u001B[0m\u001B[0;34m=\u001B[0m\u001B[0;36m1\u001B[0m\u001B[0;34m)\u001B[0m\u001B[0;31m \u001B[0m\u001B[0;31m\\\u001B[0m\u001B[0;34m\u001B[0m\u001B[0;34m\u001B[0m\u001B[0m\n\u001B[1;32m      3\u001B[0m \u001B[0;34m.\u001B[0m\u001B[0mpipe\u001B[0m\u001B[0;34m(\u001B[0m\u001B[0mpd\u001B[0m\u001B[0;34m.\u001B[0m\u001B[0mDataFrame\u001B[0m\u001B[0;34m.\u001B[0m\u001B[0mset_index\u001B[0m\u001B[0;34m,\u001B[0m \u001B[0;34m[\u001B[0m\u001B[0;34m'Date'\u001B[0m\u001B[0;34m]\u001B[0m\u001B[0;34m)\u001B[0m\u001B[0;31m \u001B[0m\u001B[0;31m\\\u001B[0m\u001B[0;34m\u001B[0m\u001B[0;34m\u001B[0m\u001B[0m\n\u001B[1;32m      4\u001B[0m \u001B[0;34m\u001B[0m\u001B[0m\n\u001B[1;32m      5\u001B[0m \u001B[0mIDVIX\u001B[0m\u001B[0;34m.\u001B[0m\u001B[0mindex\u001B[0m \u001B[0;34m=\u001B[0m \u001B[0mIDVIX\u001B[0m\u001B[0;34m.\u001B[0m\u001B[0mreset_index\u001B[0m\u001B[0;34m(\u001B[0m\u001B[0;34m)\u001B[0m\u001B[0;34m[\u001B[0m\u001B[0;34m'Date'\u001B[0m\u001B[0;34m]\u001B[0m\u001B[0;34m.\u001B[0m\u001B[0mapply\u001B[0m\u001B[0;34m(\u001B[0m\u001B[0;32mlambda\u001B[0m \u001B[0mi\u001B[0m \u001B[0;34m:\u001B[0m \u001B[0mdatetime\u001B[0m\u001B[0;34m.\u001B[0m\u001B[0mdatetime\u001B[0m\u001B[0;34m.\u001B[0m\u001B[0mstrptime\u001B[0m\u001B[0;34m(\u001B[0m\u001B[0mi\u001B[0m\u001B[0;34m,\u001B[0m \u001B[0;34m'%d-%b-%y'\u001B[0m\u001B[0;34m)\u001B[0m\u001B[0;34m)\u001B[0m\u001B[0;34m\u001B[0m\u001B[0;34m\u001B[0m\u001B[0m\n",
      "\u001B[0;32m~/opt/anaconda3/envs/env_generic/lib/python3.7/site-packages/pandas/io/parsers.py\u001B[0m in \u001B[0;36mread_csv\u001B[0;34m(filepath_or_buffer, sep, delimiter, header, names, index_col, usecols, squeeze, prefix, mangle_dupe_cols, dtype, engine, converters, true_values, false_values, skipinitialspace, skiprows, skipfooter, nrows, na_values, keep_default_na, na_filter, verbose, skip_blank_lines, parse_dates, infer_datetime_format, keep_date_col, date_parser, dayfirst, cache_dates, iterator, chunksize, compression, thousands, decimal, lineterminator, quotechar, quoting, doublequote, escapechar, comment, encoding, dialect, error_bad_lines, warn_bad_lines, delim_whitespace, low_memory, memory_map, float_precision, storage_options)\u001B[0m\n\u001B[1;32m    603\u001B[0m     \u001B[0mkwds\u001B[0m\u001B[0;34m.\u001B[0m\u001B[0mupdate\u001B[0m\u001B[0;34m(\u001B[0m\u001B[0mkwds_defaults\u001B[0m\u001B[0;34m)\u001B[0m\u001B[0;34m\u001B[0m\u001B[0;34m\u001B[0m\u001B[0m\n\u001B[1;32m    604\u001B[0m \u001B[0;34m\u001B[0m\u001B[0m\n\u001B[0;32m--> 605\u001B[0;31m     \u001B[0;32mreturn\u001B[0m \u001B[0m_read\u001B[0m\u001B[0;34m(\u001B[0m\u001B[0mfilepath_or_buffer\u001B[0m\u001B[0;34m,\u001B[0m \u001B[0mkwds\u001B[0m\u001B[0;34m)\u001B[0m\u001B[0;34m\u001B[0m\u001B[0;34m\u001B[0m\u001B[0m\n\u001B[0m\u001B[1;32m    606\u001B[0m \u001B[0;34m\u001B[0m\u001B[0m\n\u001B[1;32m    607\u001B[0m \u001B[0;34m\u001B[0m\u001B[0m\n",
      "\u001B[0;32m~/opt/anaconda3/envs/env_generic/lib/python3.7/site-packages/pandas/io/parsers.py\u001B[0m in \u001B[0;36m_read\u001B[0;34m(filepath_or_buffer, kwds)\u001B[0m\n\u001B[1;32m    455\u001B[0m \u001B[0;34m\u001B[0m\u001B[0m\n\u001B[1;32m    456\u001B[0m     \u001B[0;31m# Create the parser.\u001B[0m\u001B[0;34m\u001B[0m\u001B[0;34m\u001B[0m\u001B[0;34m\u001B[0m\u001B[0m\n\u001B[0;32m--> 457\u001B[0;31m     \u001B[0mparser\u001B[0m \u001B[0;34m=\u001B[0m \u001B[0mTextFileReader\u001B[0m\u001B[0;34m(\u001B[0m\u001B[0mfilepath_or_buffer\u001B[0m\u001B[0;34m,\u001B[0m \u001B[0;34m**\u001B[0m\u001B[0mkwds\u001B[0m\u001B[0;34m)\u001B[0m\u001B[0;34m\u001B[0m\u001B[0;34m\u001B[0m\u001B[0m\n\u001B[0m\u001B[1;32m    458\u001B[0m \u001B[0;34m\u001B[0m\u001B[0m\n\u001B[1;32m    459\u001B[0m     \u001B[0;32mif\u001B[0m \u001B[0mchunksize\u001B[0m \u001B[0;32mor\u001B[0m \u001B[0miterator\u001B[0m\u001B[0;34m:\u001B[0m\u001B[0;34m\u001B[0m\u001B[0;34m\u001B[0m\u001B[0m\n",
      "\u001B[0;32m~/opt/anaconda3/envs/env_generic/lib/python3.7/site-packages/pandas/io/parsers.py\u001B[0m in \u001B[0;36m__init__\u001B[0;34m(self, f, engine, **kwds)\u001B[0m\n\u001B[1;32m    812\u001B[0m             \u001B[0mself\u001B[0m\u001B[0;34m.\u001B[0m\u001B[0moptions\u001B[0m\u001B[0;34m[\u001B[0m\u001B[0;34m\"has_index_names\"\u001B[0m\u001B[0;34m]\u001B[0m \u001B[0;34m=\u001B[0m \u001B[0mkwds\u001B[0m\u001B[0;34m[\u001B[0m\u001B[0;34m\"has_index_names\"\u001B[0m\u001B[0;34m]\u001B[0m\u001B[0;34m\u001B[0m\u001B[0;34m\u001B[0m\u001B[0m\n\u001B[1;32m    813\u001B[0m \u001B[0;34m\u001B[0m\u001B[0m\n\u001B[0;32m--> 814\u001B[0;31m         \u001B[0mself\u001B[0m\u001B[0;34m.\u001B[0m\u001B[0m_engine\u001B[0m \u001B[0;34m=\u001B[0m \u001B[0mself\u001B[0m\u001B[0;34m.\u001B[0m\u001B[0m_make_engine\u001B[0m\u001B[0;34m(\u001B[0m\u001B[0mself\u001B[0m\u001B[0;34m.\u001B[0m\u001B[0mengine\u001B[0m\u001B[0;34m)\u001B[0m\u001B[0;34m\u001B[0m\u001B[0;34m\u001B[0m\u001B[0m\n\u001B[0m\u001B[1;32m    815\u001B[0m \u001B[0;34m\u001B[0m\u001B[0m\n\u001B[1;32m    816\u001B[0m     \u001B[0;32mdef\u001B[0m \u001B[0mclose\u001B[0m\u001B[0;34m(\u001B[0m\u001B[0mself\u001B[0m\u001B[0;34m)\u001B[0m\u001B[0;34m:\u001B[0m\u001B[0;34m\u001B[0m\u001B[0;34m\u001B[0m\u001B[0m\n",
      "\u001B[0;32m~/opt/anaconda3/envs/env_generic/lib/python3.7/site-packages/pandas/io/parsers.py\u001B[0m in \u001B[0;36m_make_engine\u001B[0;34m(self, engine)\u001B[0m\n\u001B[1;32m   1043\u001B[0m             )\n\u001B[1;32m   1044\u001B[0m         \u001B[0;31m# error: Too many arguments for \"ParserBase\"\u001B[0m\u001B[0;34m\u001B[0m\u001B[0;34m\u001B[0m\u001B[0;34m\u001B[0m\u001B[0m\n\u001B[0;32m-> 1045\u001B[0;31m         \u001B[0;32mreturn\u001B[0m \u001B[0mmapping\u001B[0m\u001B[0;34m[\u001B[0m\u001B[0mengine\u001B[0m\u001B[0;34m]\u001B[0m\u001B[0;34m(\u001B[0m\u001B[0mself\u001B[0m\u001B[0;34m.\u001B[0m\u001B[0mf\u001B[0m\u001B[0;34m,\u001B[0m \u001B[0;34m**\u001B[0m\u001B[0mself\u001B[0m\u001B[0;34m.\u001B[0m\u001B[0moptions\u001B[0m\u001B[0;34m)\u001B[0m  \u001B[0;31m# type: ignore[call-arg]\u001B[0m\u001B[0;34m\u001B[0m\u001B[0;34m\u001B[0m\u001B[0m\n\u001B[0m\u001B[1;32m   1046\u001B[0m \u001B[0;34m\u001B[0m\u001B[0m\n\u001B[1;32m   1047\u001B[0m     \u001B[0;32mdef\u001B[0m \u001B[0m_failover_to_python\u001B[0m\u001B[0;34m(\u001B[0m\u001B[0mself\u001B[0m\u001B[0;34m)\u001B[0m\u001B[0;34m:\u001B[0m\u001B[0;34m\u001B[0m\u001B[0;34m\u001B[0m\u001B[0m\n",
      "\u001B[0;32m~/opt/anaconda3/envs/env_generic/lib/python3.7/site-packages/pandas/io/parsers.py\u001B[0m in \u001B[0;36m__init__\u001B[0;34m(self, src, **kwds)\u001B[0m\n\u001B[1;32m   1860\u001B[0m \u001B[0;34m\u001B[0m\u001B[0m\n\u001B[1;32m   1861\u001B[0m         \u001B[0;31m# open handles\u001B[0m\u001B[0;34m\u001B[0m\u001B[0;34m\u001B[0m\u001B[0;34m\u001B[0m\u001B[0m\n\u001B[0;32m-> 1862\u001B[0;31m         \u001B[0mself\u001B[0m\u001B[0;34m.\u001B[0m\u001B[0m_open_handles\u001B[0m\u001B[0;34m(\u001B[0m\u001B[0msrc\u001B[0m\u001B[0;34m,\u001B[0m \u001B[0mkwds\u001B[0m\u001B[0;34m)\u001B[0m\u001B[0;34m\u001B[0m\u001B[0;34m\u001B[0m\u001B[0m\n\u001B[0m\u001B[1;32m   1863\u001B[0m         \u001B[0;32massert\u001B[0m \u001B[0mself\u001B[0m\u001B[0;34m.\u001B[0m\u001B[0mhandles\u001B[0m \u001B[0;32mis\u001B[0m \u001B[0;32mnot\u001B[0m \u001B[0;32mNone\u001B[0m\u001B[0;34m\u001B[0m\u001B[0;34m\u001B[0m\u001B[0m\n\u001B[1;32m   1864\u001B[0m         \u001B[0;32mfor\u001B[0m \u001B[0mkey\u001B[0m \u001B[0;32min\u001B[0m \u001B[0;34m(\u001B[0m\u001B[0;34m\"storage_options\"\u001B[0m\u001B[0;34m,\u001B[0m \u001B[0;34m\"encoding\"\u001B[0m\u001B[0;34m,\u001B[0m \u001B[0;34m\"memory_map\"\u001B[0m\u001B[0;34m,\u001B[0m \u001B[0;34m\"compression\"\u001B[0m\u001B[0;34m)\u001B[0m\u001B[0;34m:\u001B[0m\u001B[0;34m\u001B[0m\u001B[0;34m\u001B[0m\u001B[0m\n",
      "\u001B[0;32m~/opt/anaconda3/envs/env_generic/lib/python3.7/site-packages/pandas/io/parsers.py\u001B[0m in \u001B[0;36m_open_handles\u001B[0;34m(self, src, kwds)\u001B[0m\n\u001B[1;32m   1361\u001B[0m             \u001B[0mcompression\u001B[0m\u001B[0;34m=\u001B[0m\u001B[0mkwds\u001B[0m\u001B[0;34m.\u001B[0m\u001B[0mget\u001B[0m\u001B[0;34m(\u001B[0m\u001B[0;34m\"compression\"\u001B[0m\u001B[0;34m,\u001B[0m \u001B[0;32mNone\u001B[0m\u001B[0;34m)\u001B[0m\u001B[0;34m,\u001B[0m\u001B[0;34m\u001B[0m\u001B[0;34m\u001B[0m\u001B[0m\n\u001B[1;32m   1362\u001B[0m             \u001B[0mmemory_map\u001B[0m\u001B[0;34m=\u001B[0m\u001B[0mkwds\u001B[0m\u001B[0;34m.\u001B[0m\u001B[0mget\u001B[0m\u001B[0;34m(\u001B[0m\u001B[0;34m\"memory_map\"\u001B[0m\u001B[0;34m,\u001B[0m \u001B[0;32mFalse\u001B[0m\u001B[0;34m)\u001B[0m\u001B[0;34m,\u001B[0m\u001B[0;34m\u001B[0m\u001B[0;34m\u001B[0m\u001B[0m\n\u001B[0;32m-> 1363\u001B[0;31m             \u001B[0mstorage_options\u001B[0m\u001B[0;34m=\u001B[0m\u001B[0mkwds\u001B[0m\u001B[0;34m.\u001B[0m\u001B[0mget\u001B[0m\u001B[0;34m(\u001B[0m\u001B[0;34m\"storage_options\"\u001B[0m\u001B[0;34m,\u001B[0m \u001B[0;32mNone\u001B[0m\u001B[0;34m)\u001B[0m\u001B[0;34m,\u001B[0m\u001B[0;34m\u001B[0m\u001B[0;34m\u001B[0m\u001B[0m\n\u001B[0m\u001B[1;32m   1364\u001B[0m         )\n\u001B[1;32m   1365\u001B[0m \u001B[0;34m\u001B[0m\u001B[0m\n",
      "\u001B[0;32m~/opt/anaconda3/envs/env_generic/lib/python3.7/site-packages/pandas/io/common.py\u001B[0m in \u001B[0;36mget_handle\u001B[0;34m(path_or_buf, mode, encoding, compression, memory_map, is_text, errors, storage_options)\u001B[0m\n\u001B[1;32m    642\u001B[0m                 \u001B[0mencoding\u001B[0m\u001B[0;34m=\u001B[0m\u001B[0mioargs\u001B[0m\u001B[0;34m.\u001B[0m\u001B[0mencoding\u001B[0m\u001B[0;34m,\u001B[0m\u001B[0;34m\u001B[0m\u001B[0;34m\u001B[0m\u001B[0m\n\u001B[1;32m    643\u001B[0m                 \u001B[0merrors\u001B[0m\u001B[0;34m=\u001B[0m\u001B[0merrors\u001B[0m\u001B[0;34m,\u001B[0m\u001B[0;34m\u001B[0m\u001B[0;34m\u001B[0m\u001B[0m\n\u001B[0;32m--> 644\u001B[0;31m                 \u001B[0mnewline\u001B[0m\u001B[0;34m=\u001B[0m\u001B[0;34m\"\"\u001B[0m\u001B[0;34m,\u001B[0m\u001B[0;34m\u001B[0m\u001B[0;34m\u001B[0m\u001B[0m\n\u001B[0m\u001B[1;32m    645\u001B[0m             )\n\u001B[1;32m    646\u001B[0m         \u001B[0;32melse\u001B[0m\u001B[0;34m:\u001B[0m\u001B[0;34m\u001B[0m\u001B[0;34m\u001B[0m\u001B[0m\n",
      "\u001B[0;31mFileNotFoundError\u001B[0m: [Errno 2] No such file or directory: 'IDIndex.csv'"
     ]
    }
   ],
   "source": [
    "IDVIX = pd.read_csv(\"IDIndex.csv\").pipe(pd.DataFrame.rename, columns=lambda x: x.strip()) \\\n",
    ".pipe(pd.DataFrame.rename, {'Close':'IDVIX'}, axis=1) \\\n",
    ".pipe(pd.DataFrame.set_index, ['Date']) \\\n",
    "\n",
    "IDVIX.index = IDVIX.reset_index()['Date'].apply(lambda i : datetime.datetime.strptime(i, '%d-%b-%y'))\n",
    "finance_data = _finance_data.merge(IDVIX, left_index=True, right_index=True)\n",
    "finance_data.head(2)"
   ]
  },
  {
   "cell_type": "code",
   "execution_count": null,
   "metadata": {},
   "outputs": [],
   "source": [
    "VHSI = pd.read_csv(\"VHSI.csv\").pipe(pd.DataFrame.rename, columns=lambda x: x.strip()) \\\n",
    ".pipe(pd.DataFrame.rename, {'Close':'VHSI'}, axis=1) \\\n",
    ".pipe(pd.DataFrame.set_index, ['Date']) \\\n",
    "\n",
    "VHSI.index = VHSI.reset_index()['Date'].apply(lambda i : datetime.datetime.strptime(i, '%d-%b-%y'))\n",
    "finance_data = finance_data.merge(VHSI, left_index=True, right_index=True)\n",
    "finance_data.head(2)"
   ]
  },
  {
   "cell_type": "code",
   "execution_count": null,
   "metadata": {},
   "outputs": [],
   "source": [
    "JPVIX = pd.read_csv(\"JPIndex.csv\").pipe(pd.DataFrame.rename, columns=lambda x: x.strip()) \\\n",
    ".pipe(pd.DataFrame.rename, {'Close':'JPVIX'}, axis=1) \\\n",
    ".pipe(pd.DataFrame.set_index, ['Date']) \\\n",
    "\n",
    "JPVIX.index = JPVIX.reset_index()['Date'].apply(lambda i : datetime.datetime.strptime(i, '%Y.%m.%d'))\n",
    "finance_data = finance_data.merge(JPVIX, left_index=True, right_index=True)\n",
    "finance_data.head(2) "
   ]
  },
  {
   "cell_type": "code",
   "execution_count": null,
   "metadata": {},
   "outputs": [],
   "source": [
    "EUVIX = pd.read_csv(\"EUIndex.csv\").pipe(pd.DataFrame.rename, columns=lambda x: x.strip()) \\\n",
    ".pipe(pd.DataFrame.rename, {'Close':'EUVIX'}, axis=1) \\\n",
    ".pipe(pd.DataFrame.set_index, ['Date']) \\\n",
    "\n",
    "EUVIX.index = EUVIX.reset_index()['Date'].apply(lambda i : datetime.datetime.strptime(i, '%m/%d/%Y'))\n",
    "finance_data = finance_data.merge(EUVIX, left_index=True, right_index=True)\n",
    "finance_data.head(2) "
   ]
  },
  {
   "cell_type": "markdown",
   "metadata": {},
   "source": [
    "After collecting the datas, we plot them on the graph:"
   ]
  },
  {
   "cell_type": "code",
   "execution_count": null,
   "metadata": {},
   "outputs": [],
   "source": [
    "Finance2=finance_data.drop(columns=['SP500'])"
   ]
  },
  {
   "cell_type": "code",
   "execution_count": null,
   "metadata": {},
   "outputs": [],
   "source": [
    "fig, ax = plt.subplots(3, 2, figsize=(14, 8))\n",
    "fig.delaxes(ax[2,1])\n",
    "ax[0, 0].set_title('VIX',fontsize=20)\n",
    "ax[0, 0].plot(Finance2.index, Finance2.VIX)\n",
    "ax[1, 0].set_title('IDVIX',fontsize=20)\n",
    "ax[1, 0].plot(Finance2.index, Finance2.IDVIX)\n",
    "ax[2, 0].set_title('VHSI',fontsize=20)\n",
    "ax[2, 0].plot(Finance2.index, Finance2.VHSI)\n",
    "ax[0, 1].set_title('JPVIX',fontsize=20,)\n",
    "ax[0, 1].plot(Finance2.index, Finance2.JPVIX)\n",
    "ax[1, 1].set_title('EUVIX',fontsize=20)\n",
    "ax[1, 1].plot(Finance2.index, Finance2.EUVIX)\n",
    "plt.tight_layout()"
   ]
  },
  {
   "cell_type": "markdown",
   "metadata": {},
   "source": [
    "According the the graph, all indices have a great peak after covid-19.(And maybe we can notice that the financial market of Japan is much more stable than that of other financial market)."
   ]
  },
  {
   "cell_type": "markdown",
   "metadata": {},
   "source": [
    "In conclusion, obviously, the vix indices of these financial market reached a great peak after the broke up of covid-19, which may be a great challenge of \"time-invariant volatility\" consumption. To get more details of it, we will add the data of covid-19 into our research:"
   ]
  },
  {
   "cell_type": "markdown",
   "metadata": {},
   "source": [
    "## Data with covid-19"
   ]
  },
  {
   "cell_type": "markdown",
   "metadata": {},
   "source": [
    "We download the data of covid-19 from Johns Hopkins Coronavirus Resource Center.By using the methods learned from our classes, we merged these data to a total dataset of all countries and regions we researched on:"
   ]
  },
  {
   "cell_type": "code",
   "execution_count": null,
   "metadata": {},
   "outputs": [],
   "source": [
    "_covid_19 =pd.read_csv(os.path.join(os.curdir, \"covid.csv\"))\n",
    "\n",
    "\n",
    "covid_19 = _covid_19.pipe(pd.DataFrame.drop, ['Province/State', 'Lat', 'Long'], 1) \\\n",
    "        .pipe(pd.DataFrame.set_index, 'Country/Region').T\n",
    "        \n",
    "covid_19['global'] = covid_19.apply('sum', axis=1)\n",
    "\n",
    "# calculate the cases growth in each country\n",
    "covid_19_country = pd.DataFrame(index=covid_19.index)\n",
    "for country in covid_19.columns.unique():\n",
    "        covid_19_country['cases_growth_' + country] = np.log(covid_19[[country]].sum(axis=1).replace(0,1)).diff().rolling(14, win_type='gaussian').mean(std=3)                                  \n",
    "\n",
    "\n",
    "# # calculate the cases growth in US\n",
    "# covid_19['cases_growth_US'] = np.log(covid_19['US']).diff().rolling(14, win_type='gaussian').mean(std=3)\n",
    "\n",
    "\n",
    "# calculate the cases growth globally\n",
    "covid_19_country['cases_growth_global'] = covid_19_country.mean(axis=1)\n",
    "\n",
    "covid_19_data = covid_19[['US', 'global']].merge(covid_19_country[['cases_growth_US', \n",
    "                                                                   'cases_growth_global', \n",
    "                                                                   'cases_growth_India',\n",
    "                                                                   'cases_growth_Japan']], \n",
    "                                                 left_index=True, right_index=True)\n",
    "covid_19_data=covid_19_data.drop(columns=['US','global'])"
   ]
  },
  {
   "cell_type": "code",
   "execution_count": null,
   "metadata": {},
   "outputs": [],
   "source": [
    "_covid_19HK =pd.read_csv(os.path.join(os.curdir, \"HKcovid.csv\"))\n",
    "covid_19HK = _covid_19HK.pipe(pd.DataFrame.drop, ['Province/State', 'Lat', 'Long'], 1) \\\n",
    "        .pipe(pd.DataFrame.set_index, 'Country/Region').T\n",
    "covid_19_HK= np.array(np.log(covid_19HK[['Hong Kong']].sum(axis=1).replace(0,1)).diff().rolling(14, win_type='gaussian').mean(std=3))       \n",
    "covid_19HK['cases_growth_HK']=covid_19_HK"
   ]
  },
  {
   "cell_type": "code",
   "execution_count": null,
   "metadata": {},
   "outputs": [],
   "source": [
    "covid_19_data=covid_19_data.merge(covid_19HK,left_index=True, right_index=True)\n",
    "covid_19_data=covid_19_data.drop(columns=['Hong Kong'])"
   ]
  },
  {
   "cell_type": "code",
   "execution_count": null,
   "metadata": {},
   "outputs": [],
   "source": [
    "_covid_19EU =pd.read_csv(os.path.join(os.curdir, \"EUcovid.csv\"))\n",
    "\n",
    "\n",
    "covid_19EU = _covid_19EU.pipe(pd.DataFrame.drop, ['Province/State', 'Lat', 'Long'], 1) \\\n",
    "        .pipe(pd.DataFrame.set_index, 'Country/Region').T\n",
    "        \n",
    "covid_19EU['EU'] = covid_19EU.apply('sum', axis=1)\n",
    "\n",
    "# calculate the cases growth in each country in Eurozone\n",
    "covid_19_EUcountry = pd.DataFrame(index=covid_19EU.index)\n",
    "for country in covid_19EU.columns.unique():\n",
    "        covid_19_EUcountry['cases_growth_' + country] = np.log(covid_19EU[[country]].sum(axis=1).replace(0,1)).diff().rolling(14, win_type='gaussian').mean(std=3)                                  \n",
    "\n",
    "\n",
    "covid_19_EUcountry['cases_growth_EU'] = covid_19_EUcountry.mean(axis=1)"
   ]
  },
  {
   "cell_type": "code",
   "execution_count": null,
   "metadata": {},
   "outputs": [],
   "source": [
    "covid_19_data=covid_19_data.merge(covid_19_EUcountry['cases_growth_EU'],left_index=True, right_index=True)"
   ]
  },
  {
   "cell_type": "code",
   "execution_count": null,
   "metadata": {},
   "outputs": [],
   "source": [
    "covid_19_data=covid_19_data.drop(index=['Unnamed: 0'])\n",
    "covid_19_data=covid_19_data.fillna(0)"
   ]
  },
  {
   "cell_type": "markdown",
   "metadata": {},
   "source": [
    "After doing these, we start to combine them with the VIX data:"
   ]
  },
  {
   "cell_type": "code",
   "execution_count": null,
   "metadata": {},
   "outputs": [],
   "source": [
    "Finance_data=finance_data\n",
    "Covid_19_data=covid_19_data\n",
    "data = Finance_data.merge(Covid_19_data, left_index=True, right_index=True)\n",
    "data.tail(3)"
   ]
  },
  {
   "cell_type": "markdown",
   "metadata": {},
   "source": [
    "Firsrly, we show the covid datas of all countries and regions we researched on:"
   ]
  },
  {
   "cell_type": "code",
   "execution_count": null,
   "metadata": {},
   "outputs": [],
   "source": [
    "data2=data[['cases_growth_global','cases_growth_US','cases_growth_India','cases_growth_Japan','cases_growth_HK','cases_growth_EU']]\n",
    "data2.index.name='Date'\n",
    "data2.columns.name='Cases_growth'"
   ]
  },
  {
   "cell_type": "code",
   "execution_count": null,
   "metadata": {},
   "outputs": [],
   "source": [
    "fig,axs=plt.subplots(3,2,figsize=(20,8))\n",
    "\n",
    "data2.plot(ax=axs,subplots=True,legend=False)\n",
    "axs[0][0].set_title('Cases_growth_global')\n",
    "axs[0][0].set_xlabel('')\n",
    "axs[0][0].tick_params(labelbottom=False)\n",
    "axs[0][1].set_title('Cases_growth_US')\n",
    "axs[0][1].set_xlabel('')\n",
    "axs[0][1].tick_params(labelbottom=False)\n",
    "axs[1][0].set_title('Cases_growth_India')\n",
    "axs[1][0].set_xlabel('')\n",
    "axs[1][0].tick_params(labelbottom=False)\n",
    "axs[1][1].set_title('Cases_growth_Japan')\n",
    "axs[1][1].set_xlabel('')\n",
    "axs[1][1].tick_params(labelbottom=False)\n",
    "axs[2][0].set_title('Cases_growth_HK')\n",
    "axs[2][1].set_title('Cases_growth_EU')\n"
   ]
  },
  {
   "cell_type": "markdown",
   "metadata": {},
   "source": [
    "Then, we will draw the covid data and the volatility data of each country or region(the later one will be drawn **with black dotted line** separately. And in each graph we will also draw the graph of the global covid data."
   ]
  },
  {
   "cell_type": "markdown",
   "metadata": {},
   "source": [
    "Here is the situation of VIX in the United States:"
   ]
  },
  {
   "cell_type": "code",
   "execution_count": null,
   "metadata": {},
   "outputs": [],
   "source": [
    "fig,ax = plt.subplots(figsize=(15,5))\n",
    "# make a plot\n",
    "ax.plot(data.index, data.VIX, 'k--',linewidth=3.5)\n",
    "# set x-axis label\n",
    "ax.set_xlabel(\"Time\", fontsize=14)\n",
    "# set y-axis label\n",
    "ax.set_ylabel(\"VIX\", fontsize=14)\n",
    "\n",
    "# twin object for two different y-axis on the sample plot\n",
    "ax2=ax.twinx()\n",
    "# make a plot with different y-axis using second axis object\n",
    "ax2.plot(data.index, data['cases_growth_US'], label=\"US\")\n",
    "ax2.plot(data.index, data['cases_growth_global'], label='Global')\n",
    "ax2.set_ylabel(\"log-difference of the confirmed cases\", fontsize=14)\n",
    "ax2.set_title(\"VIX\")\n",
    "plt.legend()\n",
    "plt.show()"
   ]
  },
  {
   "cell_type": "markdown",
   "metadata": {},
   "source": [
    "Here is the situation of IDVIX in India:"
   ]
  },
  {
   "cell_type": "code",
   "execution_count": null,
   "metadata": {},
   "outputs": [],
   "source": [
    "fig,ax = plt.subplots(figsize=(15,5))\n",
    "# make a plot\n",
    "ax.plot(data.index, data.IDVIX, 'k--',linewidth=3.5)\n",
    "# set x-axis label\n",
    "ax.set_xlabel(\"Time\", fontsize=14)\n",
    "# set y-axis label\n",
    "ax.set_ylabel(\"IDVIX\", fontsize=14)\n",
    "\n",
    "# twin object for two different y-axis on the sample plot\n",
    "ax2=ax.twinx()\n",
    "# make a plot with different y-axis using second axis object\n",
    "ax2.plot(data.index, data['cases_growth_India'], label=\"India\")\n",
    "ax2.plot(data.index, data['cases_growth_global'], label='Global')\n",
    "#ax2.plot(data.index, data['cases_growth_India'], label='India')\n",
    "ax2.set_ylabel(\"log-difference of the confirmed cases\", fontsize=14)\n",
    "ax2.set_title(\"IDVIX\")\n",
    "plt.legend()\n",
    "plt.show()"
   ]
  },
  {
   "cell_type": "markdown",
   "metadata": {},
   "source": [
    "Here is the situation of JPVIX in Japan:"
   ]
  },
  {
   "cell_type": "code",
   "execution_count": null,
   "metadata": {},
   "outputs": [],
   "source": [
    "fig,ax = plt.subplots(figsize=(15,5))\n",
    "# make a plot\n",
    "ax.plot(data.index,data.JPVIX , 'k--',linewidth=3.5)\n",
    "# set x-axis label\n",
    "ax.set_xlabel(\"Time\", fontsize=14)\n",
    "# set y-axis label\n",
    "ax.set_ylabel(\"JPVIX\", fontsize=14)\n",
    "\n",
    "# twin object for two different y-axis on the sample plot\n",
    "ax2=ax.twinx()\n",
    "# make a plot with different y-axis using second axis object\n",
    "ax2.plot(data.index, data['cases_growth_Japan'], label=\"Japan\")\n",
    "ax2.plot(data.index, data['cases_growth_global'], label='Global')\n",
    "#ax2.plot(data.index, data['cases_growth_Japan'], label='Japan')\n",
    "ax2.set_ylabel(\"log-difference of the confirmed cases\", fontsize=14)\n",
    "ax2.set_title('JPVIX')\n",
    "plt.legend()\n",
    "plt.show()"
   ]
  },
  {
   "cell_type": "markdown",
   "metadata": {},
   "source": [
    "Here is the situation of VHSI in Hong Kong:"
   ]
  },
  {
   "cell_type": "code",
   "execution_count": null,
   "metadata": {},
   "outputs": [],
   "source": [
    "fig,ax = plt.subplots(figsize=(15,5))\n",
    "# make a plot\n",
    "ax.plot(data.index,data.VHSI , 'k--',linewidth=3.5)\n",
    "# set x-axis label\n",
    "ax.set_xlabel(\"Time\", fontsize=14)\n",
    "# set y-axis label\n",
    "ax.set_ylabel(\"VHSI\", fontsize=14)\n",
    "\n",
    "# twin object for two different y-axis on the sample plot\n",
    "ax2=ax.twinx()\n",
    "# make a plot with different y-axis using second axis object\n",
    "ax2.plot(data.index, data['cases_growth_HK'], label=\"Hong Kong\")\n",
    "ax2.plot(data.index, data['cases_growth_global'], label='Global')\n",
    "#ax2.plot(data.index, data['cases_growth_HK'], label='Hong Kong')\n",
    "ax2.set_ylabel(\"log-difference of the confirmed cases\", fontsize=14)\n",
    "ax2.set_title('VHSI')\n",
    "plt.legend()\n",
    "plt.show()"
   ]
  },
  {
   "cell_type": "markdown",
   "metadata": {},
   "source": [
    "Here is the situation of EUVIX in Eurozone:"
   ]
  },
  {
   "cell_type": "code",
   "execution_count": null,
   "metadata": {},
   "outputs": [],
   "source": [
    "fig,ax = plt.subplots(figsize=(15,5))\n",
    "# make a plot\n",
    "ax.plot(data.index,data.EUVIX , 'k--',linewidth=3.5)\n",
    "# set x-axis label\n",
    "ax.set_xlabel(\"Time\", fontsize=14)\n",
    "# set y-axis label\n",
    "ax.set_ylabel(\"EUVIX\", fontsize=14)\n",
    "\n",
    "# twin object for two different y-axis on the sample plot\n",
    "ax2=ax.twinx()\n",
    "# make a plot with different y-axis using second axis object\n",
    "ax2.plot(data.index, data['cases_growth_EU'], label=\"EU\")\n",
    "ax2.plot(data.index, data['cases_growth_global'], label='Global')\n",
    "#ax2.plot(data.index, data['cases_growth_EU'], label='EU')\n",
    "ax2.set_ylabel(\"log-difference of the confirmed cases\", fontsize=14)\n",
    "ax2.set_title(\"EUVIX\")\n",
    "plt.legend()\n",
    "plt.show()"
   ]
  },
  {
   "cell_type": "markdown",
   "metadata": {},
   "source": [
    "From all things above, we can learn something interesting:\n",
    "* The growth of confirmed cases of all these countries/regions rise to a peak between March and April.Although Japan did not has a \"peak period\", its growth on confirmed rates between March and April is also greater than that of other period.\n",
    "* With the growth of confirmed cases, these countries/regions volitility also rise to a peak almost in a simultaneous way.Japan may be a little different from that of others(Its volitility is much lower than others as we have shown),but the time between its \"covid peak\" and \"VIX peak\" is also very closed.\n",
    "* All these volitilites rise to the peak almost at the same time as that of Global confirmed rate. Maybe it demonstrate that the financial markets in the world are connected closedly and the volitility may greatly depend on the global situation."
   ]
  },
  {
   "cell_type": "code",
   "execution_count": null,
   "metadata": {},
   "outputs": [],
   "source": []
  }
 ],
 "metadata": {
  "kernelspec": {
   "display_name": "Python 3",
   "language": "python",
   "name": "python3"
  },
  "language_info": {
   "codemirror_mode": {
    "name": "ipython",
    "version": 3
   },
   "file_extension": ".py",
   "mimetype": "text/x-python",
   "name": "python",
   "nbconvert_exporter": "python",
   "pygments_lexer": "ipython3",
   "version": "3.8.3"
  }
 },
 "nbformat": 4,
 "nbformat_minor": 4
}